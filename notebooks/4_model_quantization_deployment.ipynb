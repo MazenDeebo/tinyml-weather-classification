{
 "cells": [
  {
   "cell_type": "code",
   "execution_count": 2,
   "metadata": {},
   "outputs": [
    {
     "name": "stdout",
     "output_type": "stream",
     "text": [
      "Scaler mean: [9.70352419 0.72762099]\n",
      "Scaler scale (1/std): [11.22387586  0.21171362]\n",
      "\n",
      "Note: Update these values in the ESP32 code\n",
      "INFO:tensorflow:Assets written to: C:\\Users\\mazen\\AppData\\Local\\Temp\\tmpybxqza83\\assets\n"
     ]
    },
    {
     "name": "stderr",
     "output_type": "stream",
     "text": [
      "INFO:tensorflow:Assets written to: C:\\Users\\mazen\\AppData\\Local\\Temp\\tmpybxqza83\\assets\n"
     ]
    },
    {
     "name": "stdout",
     "output_type": "stream",
     "text": [
      "Float32 TFLite model saved to D:\\FCDS\\semster 8\\IOT 2\\Projects\\project 2\\tinyml-weather-classification\\models\\tflite\\weather_classifier.tflite\n",
      "INFO:tensorflow:Assets written to: C:\\Users\\mazen\\AppData\\Local\\Temp\\tmprlpi9w10\\assets\n"
     ]
    },
    {
     "name": "stderr",
     "output_type": "stream",
     "text": [
      "INFO:tensorflow:Assets written to: C:\\Users\\mazen\\AppData\\Local\\Temp\\tmprlpi9w10\\assets\n"
     ]
    },
    {
     "name": "stdout",
     "output_type": "stream",
     "text": [
      "Quantized TFLite model saved to D:\\FCDS\\semster 8\\IOT 2\\Projects\\project 2\\tinyml-weather-classification\\models\\tflite\\weather_classifier_quantized.tflite\n",
      "\n",
      "Model size comparison:\n",
      "Float32 model: 2352 bytes\n",
      "Quantized model: 2584 bytes\n",
      "Reduction: -9.86%\n"
     ]
    },
    {
     "name": "stderr",
     "output_type": "stream",
     "text": [
      "C:\\Users\\mazen\\AppData\\Roaming\\Python\\Python39\\site-packages\\tensorflow\\lite\\python\\convert.py:766: UserWarning: Statistics for quantized inputs were expected, but not specified; continuing anyway.\n",
      "  warnings.warn(\"Statistics for quantized inputs were expected, but not \"\n"
     ]
    }
   ],
   "source": [
    "import tensorflow as tf\n",
    "import numpy as np\n",
    "import pandas as pd\n",
    "from tensorflow.keras.models import load_model\n",
    "import joblib\n",
    "\n",
    "# 1. Load the trained model and scaler\n",
    "model_path = r\"D:\\FCDS\\semster 8\\IOT 2\\Projects\\project 2\\tinyml-weather-classification\\models\\tensorflow\\weather_model.h5\"\n",
    "scaler_path = r\"D:\\FCDS\\semster 8\\IOT 2\\Projects\\project 2\\tinyml-weather-classification\\models\\tensorflow\\scaler.pkl\"\n",
    "data_path = r\"D:\\FCDS\\semster 8\\IOT 2\\Projects\\project 2\\tinyml-weather-classification\\data\\labeled\\weather_data.csv\"\n",
    "\n",
    "# Load model and scaler\n",
    "model = load_model(model_path)\n",
    "scaler = joblib.load(scaler_path)\n",
    "\n",
    "# Load and preprocess the training data\n",
    "df = pd.read_csv(data_path)\n",
    "X = df[['temperature', 'humidity']].values\n",
    "X_train = scaler.transform(X)  # Apply the same scaling used during training\n",
    "\n",
    "# Extract scaler parameters for ESP32 code\n",
    "print(\"Scaler mean:\", scaler.mean_)\n",
    "print(\"Scaler scale (1/std):\", scaler.scale_)\n",
    "print(\"\\nNote: Update these values in the ESP32 code\")\n",
    "\n",
    "# 2. Convert to TensorFlow Lite (float32)\n",
    "converter = tf.lite.TFLiteConverter.from_keras_model(model)\n",
    "tflite_model = converter.convert()\n",
    "\n",
    "# Save the float32 model\n",
    "tflite_float_path = r\"D:\\FCDS\\semster 8\\IOT 2\\Projects\\project 2\\tinyml-weather-classification\\models\\tflite\\weather_classifier.tflite\"\n",
    "with open(tflite_float_path, 'wb') as f:\n",
    "    f.write(tflite_model)\n",
    "print(f\"Float32 TFLite model saved to {tflite_float_path}\")\n",
    "\n",
    "# 3. Create a quantized model (int8 quantization)\n",
    "def representative_data_gen():\n",
    "    # Use scaled training data as representative dataset\n",
    "    for i in range(min(100, len(X_train))):  # Use first 100 samples or less if dataset is smaller\n",
    "        yield [X_train[i:i+1].astype(np.float32)]\n",
    "\n",
    "converter.optimizations = [tf.lite.Optimize.DEFAULT]\n",
    "converter.representative_dataset = representative_data_gen\n",
    "converter.target_spec.supported_ops = [tf.lite.OpsSet.TFLITE_BUILTINS_INT8]\n",
    "converter.inference_input_type = tf.int8\n",
    "converter.inference_output_type = tf.int8\n",
    "\n",
    "quantized_tflite_model = converter.convert()\n",
    "\n",
    "# Save the quantized model\n",
    "quantized_path = r\"D:\\FCDS\\semster 8\\IOT 2\\Projects\\project 2\\tinyml-weather-classification\\models\\tflite\\weather_classifier_quantized.tflite\"\n",
    "with open(quantized_path, 'wb') as f:\n",
    "    f.write(quantized_tflite_model)\n",
    "print(f\"Quantized TFLite model saved to {quantized_path}\")\n",
    "\n",
    "# Compare model sizes\n",
    "import os\n",
    "float_size = os.path.getsize(tflite_float_path)\n",
    "quant_size = os.path.getsize(quantized_path)\n",
    "\n",
    "print(f\"\\nModel size comparison:\")\n",
    "print(f\"Float32 model: {float_size} bytes\")\n",
    "print(f\"Quantized model: {quant_size} bytes\")\n",
    "print(f\"Reduction: {(1 - quant_size/float_size)*100:.2f}%\")"
   ]
  },
  {
   "cell_type": "code",
   "execution_count": 3,
   "metadata": {},
   "outputs": [
    {
     "name": "stdout",
     "output_type": "stream",
     "text": [
      "C array saved to D:\\FCDS\\semster 8\\IOT 2\\Projects\\project 2\\tinyml-weather-classification\\firmware\\src\\weather_model_float.h\n",
      "C array saved to D:\\FCDS\\semster 8\\IOT 2\\Projects\\project 2\\tinyml-weather-classification\\firmware\\src\\weather_model_quant.h\n",
      "\n",
      "C array conversion complete. Models ready for ESP32 deployment.\n"
     ]
    }
   ],
   "source": [
    "# 4. Convert TFLite model to C array\n",
    "def convert_to_c_array(tflite_path, output_path, array_name='model'):\n",
    "    with open(tflite_path, 'rb') as f:\n",
    "        model_content = f.read()\n",
    "    \n",
    "    hex_array = ', '.join([f'0x{byte:02x}' for byte in model_content])\n",
    "    c_array = f\"const unsigned char {array_name}[] = {{\\n  {hex_array}\\n}};\\n\"\n",
    "    c_array += f\"const unsigned int {array_name}_len = {len(model_content)};\"\n",
    "    \n",
    "    with open(output_path, 'w') as f:\n",
    "        f.write(c_array)\n",
    "    print(f\"C array saved to {output_path}\")\n",
    "\n",
    "# Convert both models using your exact paths\n",
    "convert_to_c_array(\n",
    "    r\"D:\\FCDS\\semster 8\\IOT 2\\Projects\\project 2\\tinyml-weather-classification\\models\\tflite\\weather_classifier.tflite\",\n",
    "    r\"D:\\FCDS\\semster 8\\IOT 2\\Projects\\project 2\\tinyml-weather-classification\\firmware\\src\\weather_model_float.h\",\n",
    "    'model_float'\n",
    ")\n",
    "\n",
    "convert_to_c_array(\n",
    "    r\"D:\\FCDS\\semster 8\\IOT 2\\Projects\\project 2\\tinyml-weather-classification\\models\\tflite\\weather_classifier_quantized.tflite\",\n",
    "    r\"D:\\FCDS\\semster 8\\IOT 2\\Projects\\project 2\\tinyml-weather-classification\\firmware\\src\\weather_model_quant.h\",\n",
    "    'model_quant'\n",
    ")\n",
    "\n",
    "print(\"\\nC array conversion complete. Models ready for ESP32 deployment.\")"
   ]
  }
 ],
 "metadata": {
  "kernelspec": {
   "display_name": "Python 3",
   "language": "python",
   "name": "python3"
  },
  "language_info": {
   "codemirror_mode": {
    "name": "ipython",
    "version": 3
   },
   "file_extension": ".py",
   "mimetype": "text/x-python",
   "name": "python",
   "nbconvert_exporter": "python",
   "pygments_lexer": "ipython3",
   "version": "3.9.13"
  }
 },
 "nbformat": 4,
 "nbformat_minor": 2
}
