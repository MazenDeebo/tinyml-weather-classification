{
 "cells": [
  {
   "cell_type": "code",
   "execution_count": 5,
   "metadata": {},
   "outputs": [
    {
     "name": "stdout",
     "output_type": "stream",
     "text": [
      "ONNX model successfully saved to:\n",
      "D:\\FCDS\\semster 8\\IOT 2\\Projects\\project 2\\tinyml-weather-classification\\models\\onnx\\weather_model.onnx\n",
      "\n",
      "ONNX model verification successful!\n",
      "Input details: [<onnxruntime.capi.onnxruntime_pybind11_state.NodeArg object at 0x000001E0CEBE9DF0>]\n",
      "Output details: [<onnxruntime.capi.onnxruntime_pybind11_state.NodeArg object at 0x000001E0CEB19E70>]\n",
      "\n",
      "Sample prediction: [array([[1.]], dtype=float32)]\n"
     ]
    }
   ],
   "source": [
    "import os\n",
    "import tensorflow as tf\n",
    "import tf2onnx\n",
    "import onnxruntime as ort\n",
    "from tensorflow.keras.models import load_model\n",
    "\n",
    "# 3. Set up paths\n",
    "model_dir = r\"D:\\FCDS\\semster 8\\IOT 2\\Projects\\project 2\\tinyml-weather-classification\\models\"\n",
    "onnx_dir = os.path.join(model_dir, \"onnx\")\n",
    "\n",
    "# Create ONNX directory if it doesn't exist\n",
    "os.makedirs(onnx_dir, exist_ok=True)\n",
    "\n",
    "onnx_model_path = os.path.join(onnx_dir, \"weather_model.onnx\")\n",
    "\n",
    "# 4. Load the trained Keras model\n",
    "keras_model_path = os.path.join(model_dir, \"tensorflow\", \"weather_model.h5\")\n",
    "model = load_model(keras_model_path)\n",
    "\n",
    "# 5. Convert using tf2onnx - METHOD 1 (Recommended)\n",
    "# Define input signature (shape must match your model input)\n",
    "input_signature = [tf.TensorSpec(shape=[None, 2], dtype=tf.float32, name='input')]\n",
    "\n",
    "# Convert model\n",
    "onnx_model, _ = tf2onnx.convert.from_keras(\n",
    "    model, \n",
    "    input_signature=input_signature,\n",
    "    opset=13\n",
    ")\n",
    "\n",
    "# Save the ONNX model\n",
    "with open(onnx_model_path, 'wb') as f:\n",
    "    f.write(onnx_model.SerializeToString())\n",
    "\n",
    "print(f\"ONNX model successfully saved to:\\n{onnx_model_path}\")\n",
    "\n",
    "# 6. Verify the file exists\n",
    "if not os.path.exists(onnx_model_path):\n",
    "    raise FileNotFoundError(f\"ONNX model was not created at {onnx_model_path}\")\n",
    "\n",
    "# 7. Verify the ONNX model\n",
    "try:\n",
    "    ort_session = ort.InferenceSession(onnx_model_path)\n",
    "    print(\"\\nONNX model verification successful!\")\n",
    "    print(\"Input details:\", ort_session.get_inputs())\n",
    "    print(\"Output details:\", ort_session.get_outputs())\n",
    "    \n",
    "    # Test with sample data\n",
    "    sample_input = {ort_session.get_inputs()[0].name: [[15.0, 0.65]]}  # Example: 15°C, 65% humidity\n",
    "    prediction = ort_session.run(None, sample_input)\n",
    "    print(\"\\nSample prediction:\", prediction)\n",
    "    \n",
    "except Exception as e:\n",
    "    print(f\"\\nError verifying ONNX model: {e}\")\n",
    "    print(\"Possible solutions:\")\n",
    "    print(\"1. Check if the input shape matches your model\")\n",
    "    print(\"2. Try different opset version (e.g., 11-15)\")\n",
    "    print(\"3. Verify TensorFlow and tf2onnx versions are compatible\")"
   ]
  }
 ],
 "metadata": {
  "kernelspec": {
   "display_name": "Python 3",
   "language": "python",
   "name": "python3"
  },
  "language_info": {
   "codemirror_mode": {
    "name": "ipython",
    "version": 3
   },
   "file_extension": ".py",
   "mimetype": "text/x-python",
   "name": "python",
   "nbconvert_exporter": "python",
   "pygments_lexer": "ipython3",
   "version": "3.9.13"
  }
 },
 "nbformat": 4,
 "nbformat_minor": 2
}
